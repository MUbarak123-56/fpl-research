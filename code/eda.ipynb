{
 "cells": [
  {
   "cell_type": "code",
   "execution_count": 1,
   "id": "abea0de9",
   "metadata": {},
   "outputs": [],
   "source": [
    "import pandas as pd\n",
    "import os\n",
    "import janitor\n",
    "import warnings\n",
    "warnings.filterwarnings('ignore')\n",
    "import seaborn as sns; sns.set_style(\"darkgrid\")\n",
    "%matplotlib inline\n",
    "import matplotlib.pyplot as plt"
   ]
  },
  {
   "cell_type": "markdown",
   "id": "d9ea8b35",
   "metadata": {},
   "source": [
    "## Does the team with the highest FPL points win the premier league?"
   ]
  },
  {
   "cell_type": "code",
   "execution_count": 2,
   "id": "f6864225",
   "metadata": {},
   "outputs": [],
   "source": [
    "new_df = pd.read_excel(\"../data/fpl_data/full_df.xlsx\")"
   ]
  },
  {
   "cell_type": "code",
   "execution_count": 3,
   "id": "0f182988",
   "metadata": {},
   "outputs": [
    {
     "data": {
      "text/html": [
       "<div>\n",
       "<style scoped>\n",
       "    .dataframe tbody tr th:only-of-type {\n",
       "        vertical-align: middle;\n",
       "    }\n",
       "\n",
       "    .dataframe tbody tr th {\n",
       "        vertical-align: top;\n",
       "    }\n",
       "\n",
       "    .dataframe thead th {\n",
       "        text-align: right;\n",
       "    }\n",
       "</style>\n",
       "<table border=\"1\" class=\"dataframe\">\n",
       "  <thead>\n",
       "    <tr style=\"text-align: right;\">\n",
       "      <th></th>\n",
       "      <th>name</th>\n",
       "      <th>position</th>\n",
       "      <th>team</th>\n",
       "      <th>xP</th>\n",
       "      <th>assists</th>\n",
       "      <th>bonus</th>\n",
       "      <th>bps</th>\n",
       "      <th>clean_sheets</th>\n",
       "      <th>creativity</th>\n",
       "      <th>element</th>\n",
       "      <th>...</th>\n",
       "      <th>value</th>\n",
       "      <th>was_home</th>\n",
       "      <th>yellow_cards</th>\n",
       "      <th>GW</th>\n",
       "      <th>expected_assists</th>\n",
       "      <th>expected_goal_involvements</th>\n",
       "      <th>expected_goals</th>\n",
       "      <th>expected_goals_conceded</th>\n",
       "      <th>starts</th>\n",
       "      <th>season</th>\n",
       "    </tr>\n",
       "  </thead>\n",
       "  <tbody>\n",
       "    <tr>\n",
       "      <th>0</th>\n",
       "      <td>Aaron Connolly</td>\n",
       "      <td>FWD</td>\n",
       "      <td>Brighton</td>\n",
       "      <td>0.5</td>\n",
       "      <td>0</td>\n",
       "      <td>0</td>\n",
       "      <td>-3</td>\n",
       "      <td>0</td>\n",
       "      <td>0.3</td>\n",
       "      <td>78</td>\n",
       "      <td>...</td>\n",
       "      <td>55</td>\n",
       "      <td>True</td>\n",
       "      <td>0</td>\n",
       "      <td>1</td>\n",
       "      <td>0.00</td>\n",
       "      <td>0.00</td>\n",
       "      <td>0.00</td>\n",
       "      <td>0.00</td>\n",
       "      <td>0</td>\n",
       "      <td>2020/21</td>\n",
       "    </tr>\n",
       "    <tr>\n",
       "      <th>1</th>\n",
       "      <td>Aaron Cresswell</td>\n",
       "      <td>DEF</td>\n",
       "      <td>West Ham</td>\n",
       "      <td>2.1</td>\n",
       "      <td>0</td>\n",
       "      <td>0</td>\n",
       "      <td>11</td>\n",
       "      <td>0</td>\n",
       "      <td>11.2</td>\n",
       "      <td>435</td>\n",
       "      <td>...</td>\n",
       "      <td>50</td>\n",
       "      <td>True</td>\n",
       "      <td>0</td>\n",
       "      <td>1</td>\n",
       "      <td>0.00</td>\n",
       "      <td>0.00</td>\n",
       "      <td>0.00</td>\n",
       "      <td>0.00</td>\n",
       "      <td>0</td>\n",
       "      <td>2020/21</td>\n",
       "    </tr>\n",
       "    <tr>\n",
       "      <th>2</th>\n",
       "      <td>Aaron Mooy</td>\n",
       "      <td>MID</td>\n",
       "      <td>Brighton</td>\n",
       "      <td>0.0</td>\n",
       "      <td>0</td>\n",
       "      <td>0</td>\n",
       "      <td>0</td>\n",
       "      <td>0</td>\n",
       "      <td>0.0</td>\n",
       "      <td>60</td>\n",
       "      <td>...</td>\n",
       "      <td>50</td>\n",
       "      <td>True</td>\n",
       "      <td>0</td>\n",
       "      <td>1</td>\n",
       "      <td>0.00</td>\n",
       "      <td>0.00</td>\n",
       "      <td>0.00</td>\n",
       "      <td>0.00</td>\n",
       "      <td>0</td>\n",
       "      <td>2020/21</td>\n",
       "    </tr>\n",
       "    <tr>\n",
       "      <th>3</th>\n",
       "      <td>Aaron Ramsdale</td>\n",
       "      <td>GK</td>\n",
       "      <td>Sheffield Utd</td>\n",
       "      <td>2.5</td>\n",
       "      <td>0</td>\n",
       "      <td>0</td>\n",
       "      <td>12</td>\n",
       "      <td>0</td>\n",
       "      <td>0.0</td>\n",
       "      <td>483</td>\n",
       "      <td>...</td>\n",
       "      <td>50</td>\n",
       "      <td>True</td>\n",
       "      <td>0</td>\n",
       "      <td>1</td>\n",
       "      <td>0.00</td>\n",
       "      <td>0.00</td>\n",
       "      <td>0.00</td>\n",
       "      <td>0.00</td>\n",
       "      <td>0</td>\n",
       "      <td>2020/21</td>\n",
       "    </tr>\n",
       "    <tr>\n",
       "      <th>4</th>\n",
       "      <td>Abdoulaye Doucouré</td>\n",
       "      <td>MID</td>\n",
       "      <td>Everton</td>\n",
       "      <td>1.3</td>\n",
       "      <td>0</td>\n",
       "      <td>0</td>\n",
       "      <td>20</td>\n",
       "      <td>1</td>\n",
       "      <td>44.6</td>\n",
       "      <td>512</td>\n",
       "      <td>...</td>\n",
       "      <td>55</td>\n",
       "      <td>False</td>\n",
       "      <td>0</td>\n",
       "      <td>1</td>\n",
       "      <td>0.00</td>\n",
       "      <td>0.00</td>\n",
       "      <td>0.00</td>\n",
       "      <td>0.00</td>\n",
       "      <td>0</td>\n",
       "      <td>2020/21</td>\n",
       "    </tr>\n",
       "    <tr>\n",
       "      <th>...</th>\n",
       "      <td>...</td>\n",
       "      <td>...</td>\n",
       "      <td>...</td>\n",
       "      <td>...</td>\n",
       "      <td>...</td>\n",
       "      <td>...</td>\n",
       "      <td>...</td>\n",
       "      <td>...</td>\n",
       "      <td>...</td>\n",
       "      <td>...</td>\n",
       "      <td>...</td>\n",
       "      <td>...</td>\n",
       "      <td>...</td>\n",
       "      <td>...</td>\n",
       "      <td>...</td>\n",
       "      <td>...</td>\n",
       "      <td>...</td>\n",
       "      <td>...</td>\n",
       "      <td>...</td>\n",
       "      <td>...</td>\n",
       "      <td>...</td>\n",
       "    </tr>\n",
       "    <tr>\n",
       "      <th>93194</th>\n",
       "      <td>Kyle Walker</td>\n",
       "      <td>DEF</td>\n",
       "      <td>Man City</td>\n",
       "      <td>3.7</td>\n",
       "      <td>0</td>\n",
       "      <td>0</td>\n",
       "      <td>16</td>\n",
       "      <td>0</td>\n",
       "      <td>36.5</td>\n",
       "      <td>369</td>\n",
       "      <td>...</td>\n",
       "      <td>55</td>\n",
       "      <td>False</td>\n",
       "      <td>0</td>\n",
       "      <td>23</td>\n",
       "      <td>0.12</td>\n",
       "      <td>0.14</td>\n",
       "      <td>0.02</td>\n",
       "      <td>1.02</td>\n",
       "      <td>1</td>\n",
       "      <td>2023/24</td>\n",
       "    </tr>\n",
       "    <tr>\n",
       "      <th>93195</th>\n",
       "      <td>Jacob Brown</td>\n",
       "      <td>FWD</td>\n",
       "      <td>Luton</td>\n",
       "      <td>-0.7</td>\n",
       "      <td>0</td>\n",
       "      <td>0</td>\n",
       "      <td>1</td>\n",
       "      <td>0</td>\n",
       "      <td>0.5</td>\n",
       "      <td>631</td>\n",
       "      <td>...</td>\n",
       "      <td>49</td>\n",
       "      <td>False</td>\n",
       "      <td>0</td>\n",
       "      <td>23</td>\n",
       "      <td>0.00</td>\n",
       "      <td>0.05</td>\n",
       "      <td>0.05</td>\n",
       "      <td>0.19</td>\n",
       "      <td>0</td>\n",
       "      <td>2023/24</td>\n",
       "    </tr>\n",
       "    <tr>\n",
       "      <th>93196</th>\n",
       "      <td>Vicente Guaita</td>\n",
       "      <td>GK</td>\n",
       "      <td>Crystal Palace</td>\n",
       "      <td>0.0</td>\n",
       "      <td>0</td>\n",
       "      <td>0</td>\n",
       "      <td>0</td>\n",
       "      <td>0</td>\n",
       "      <td>0.0</td>\n",
       "      <td>227</td>\n",
       "      <td>...</td>\n",
       "      <td>44</td>\n",
       "      <td>False</td>\n",
       "      <td>0</td>\n",
       "      <td>23</td>\n",
       "      <td>0.00</td>\n",
       "      <td>0.00</td>\n",
       "      <td>0.00</td>\n",
       "      <td>0.00</td>\n",
       "      <td>0</td>\n",
       "      <td>2023/24</td>\n",
       "    </tr>\n",
       "    <tr>\n",
       "      <th>93197</th>\n",
       "      <td>Braian Ojeda Rodríguez</td>\n",
       "      <td>MID</td>\n",
       "      <td>Nott'm Forest</td>\n",
       "      <td>0.0</td>\n",
       "      <td>0</td>\n",
       "      <td>0</td>\n",
       "      <td>0</td>\n",
       "      <td>0</td>\n",
       "      <td>0.0</td>\n",
       "      <td>459</td>\n",
       "      <td>...</td>\n",
       "      <td>45</td>\n",
       "      <td>False</td>\n",
       "      <td>0</td>\n",
       "      <td>23</td>\n",
       "      <td>0.00</td>\n",
       "      <td>0.00</td>\n",
       "      <td>0.00</td>\n",
       "      <td>0.00</td>\n",
       "      <td>0</td>\n",
       "      <td>2023/24</td>\n",
       "    </tr>\n",
       "    <tr>\n",
       "      <th>93198</th>\n",
       "      <td>Mads Bech Sørensen</td>\n",
       "      <td>DEF</td>\n",
       "      <td>Brentford</td>\n",
       "      <td>0.0</td>\n",
       "      <td>0</td>\n",
       "      <td>0</td>\n",
       "      <td>0</td>\n",
       "      <td>0</td>\n",
       "      <td>0.0</td>\n",
       "      <td>93</td>\n",
       "      <td>...</td>\n",
       "      <td>40</td>\n",
       "      <td>True</td>\n",
       "      <td>0</td>\n",
       "      <td>23</td>\n",
       "      <td>0.00</td>\n",
       "      <td>0.00</td>\n",
       "      <td>0.00</td>\n",
       "      <td>0.00</td>\n",
       "      <td>0</td>\n",
       "      <td>2023/24</td>\n",
       "    </tr>\n",
       "  </tbody>\n",
       "</table>\n",
       "<p>93199 rows × 42 columns</p>\n",
       "</div>"
      ],
      "text/plain": [
       "                         name position            team   xP  assists  bonus  \\\n",
       "0              Aaron Connolly      FWD        Brighton  0.5        0      0   \n",
       "1             Aaron Cresswell      DEF        West Ham  2.1        0      0   \n",
       "2                  Aaron Mooy      MID        Brighton  0.0        0      0   \n",
       "3              Aaron Ramsdale       GK   Sheffield Utd  2.5        0      0   \n",
       "4          Abdoulaye Doucouré      MID         Everton  1.3        0      0   \n",
       "...                       ...      ...             ...  ...      ...    ...   \n",
       "93194             Kyle Walker      DEF        Man City  3.7        0      0   \n",
       "93195             Jacob Brown      FWD           Luton -0.7        0      0   \n",
       "93196          Vicente Guaita       GK  Crystal Palace  0.0        0      0   \n",
       "93197  Braian Ojeda Rodríguez      MID   Nott'm Forest  0.0        0      0   \n",
       "93198      Mads Bech Sørensen      DEF       Brentford  0.0        0      0   \n",
       "\n",
       "       bps  clean_sheets  creativity  element  ...  value  was_home  \\\n",
       "0       -3             0         0.3       78  ...     55      True   \n",
       "1       11             0        11.2      435  ...     50      True   \n",
       "2        0             0         0.0       60  ...     50      True   \n",
       "3       12             0         0.0      483  ...     50      True   \n",
       "4       20             1        44.6      512  ...     55     False   \n",
       "...    ...           ...         ...      ...  ...    ...       ...   \n",
       "93194   16             0        36.5      369  ...     55     False   \n",
       "93195    1             0         0.5      631  ...     49     False   \n",
       "93196    0             0         0.0      227  ...     44     False   \n",
       "93197    0             0         0.0      459  ...     45     False   \n",
       "93198    0             0         0.0       93  ...     40      True   \n",
       "\n",
       "       yellow_cards  GW  expected_assists expected_goal_involvements  \\\n",
       "0                 0   1              0.00                       0.00   \n",
       "1                 0   1              0.00                       0.00   \n",
       "2                 0   1              0.00                       0.00   \n",
       "3                 0   1              0.00                       0.00   \n",
       "4                 0   1              0.00                       0.00   \n",
       "...             ...  ..               ...                        ...   \n",
       "93194             0  23              0.12                       0.14   \n",
       "93195             0  23              0.00                       0.05   \n",
       "93196             0  23              0.00                       0.00   \n",
       "93197             0  23              0.00                       0.00   \n",
       "93198             0  23              0.00                       0.00   \n",
       "\n",
       "       expected_goals  expected_goals_conceded  starts   season  \n",
       "0                0.00                     0.00       0  2020/21  \n",
       "1                0.00                     0.00       0  2020/21  \n",
       "2                0.00                     0.00       0  2020/21  \n",
       "3                0.00                     0.00       0  2020/21  \n",
       "4                0.00                     0.00       0  2020/21  \n",
       "...               ...                      ...     ...      ...  \n",
       "93194            0.02                     1.02       1  2023/24  \n",
       "93195            0.05                     0.19       0  2023/24  \n",
       "93196            0.00                     0.00       0  2023/24  \n",
       "93197            0.00                     0.00       0  2023/24  \n",
       "93198            0.00                     0.00       0  2023/24  \n",
       "\n",
       "[93199 rows x 42 columns]"
      ]
     },
     "execution_count": 3,
     "metadata": {},
     "output_type": "execute_result"
    }
   ],
   "source": [
    "new_df"
   ]
  },
  {
   "cell_type": "code",
   "execution_count": 4,
   "id": "b96321ad",
   "metadata": {},
   "outputs": [],
   "source": [
    "df_2020_21 = new_df[new_df[\"season\"] == \"2020/21\"]\n",
    "df_2021_22 = new_df[new_df[\"season\"] == \"2021/22\"]\n",
    "df_2022_23 = new_df[new_df[\"season\"] == \"2022/23\"]\n",
    "df_2023_24 = new_df[new_df[\"season\"] == \"2023/24\"]"
   ]
  },
  {
   "cell_type": "code",
   "execution_count": 5,
   "id": "c43fe183",
   "metadata": {},
   "outputs": [
    {
     "name": "stdout",
     "output_type": "stream",
     "text": [
      "<class 'pandas.core.frame.DataFrame'>\n",
      "Index: 24365 entries, 0 to 24364\n",
      "Data columns (total 42 columns):\n",
      " #   Column                      Non-Null Count  Dtype  \n",
      "---  ------                      --------------  -----  \n",
      " 0   name                        24365 non-null  object \n",
      " 1   position                    24365 non-null  object \n",
      " 2   team                        24365 non-null  object \n",
      " 3   xP                          24365 non-null  float64\n",
      " 4   assists                     24365 non-null  int64  \n",
      " 5   bonus                       24365 non-null  int64  \n",
      " 6   bps                         24365 non-null  int64  \n",
      " 7   clean_sheets                24365 non-null  int64  \n",
      " 8   creativity                  24365 non-null  float64\n",
      " 9   element                     24365 non-null  int64  \n",
      " 10  fixture                     24365 non-null  int64  \n",
      " 11  goals_conceded              24365 non-null  int64  \n",
      " 12  goals_scored                24365 non-null  int64  \n",
      " 13  ict_index                   24365 non-null  float64\n",
      " 14  influence                   24365 non-null  float64\n",
      " 15  kickoff_time                24365 non-null  object \n",
      " 16  minutes                     24365 non-null  int64  \n",
      " 17  opponent_team               24365 non-null  int64  \n",
      " 18  own_goals                   24365 non-null  int64  \n",
      " 19  penalties_missed            24365 non-null  int64  \n",
      " 20  penalties_saved             24365 non-null  int64  \n",
      " 21  red_cards                   24365 non-null  int64  \n",
      " 22  round                       24365 non-null  int64  \n",
      " 23  saves                       24365 non-null  int64  \n",
      " 24  selected                    24365 non-null  int64  \n",
      " 25  team_a_score                24365 non-null  int64  \n",
      " 26  team_h_score                24365 non-null  int64  \n",
      " 27  threat                      24365 non-null  int64  \n",
      " 28  total_points                24365 non-null  int64  \n",
      " 29  transfers_balance           24365 non-null  int64  \n",
      " 30  transfers_in                24365 non-null  int64  \n",
      " 31  transfers_out               24365 non-null  int64  \n",
      " 32  value                       24365 non-null  int64  \n",
      " 33  was_home                    24365 non-null  bool   \n",
      " 34  yellow_cards                24365 non-null  int64  \n",
      " 35  GW                          24365 non-null  int64  \n",
      " 36  expected_assists            24365 non-null  float64\n",
      " 37  expected_goal_involvements  24365 non-null  float64\n",
      " 38  expected_goals              24365 non-null  float64\n",
      " 39  expected_goals_conceded     24365 non-null  float64\n",
      " 40  starts                      24365 non-null  int64  \n",
      " 41  season                      24365 non-null  object \n",
      "dtypes: bool(1), float64(8), int64(28), object(5)\n",
      "memory usage: 7.8+ MB\n"
     ]
    }
   ],
   "source": [
    "df_2020_21.info()"
   ]
  },
  {
   "cell_type": "code",
   "execution_count": 6,
   "id": "25b629e0",
   "metadata": {},
   "outputs": [],
   "source": [
    "import pandas as pd\n",
    "import numpy as np\n",
    "\n",
    "def accumulated(df):\n",
    "    # Add a column 'n' with all values set to 1\n",
    "    df['n'] = 1\n",
    "    \n",
    "    # Group by 'name' and 'team'\n",
    "    grouped = df.groupby(['name', 'team'])\n",
    "    \n",
    "    # Define the columns to apply the cumulative sum and then subtract the original value\n",
    "    cols_to_accumulate = ['goals_scored', 'assists', 'ict_index', 'goals_conceded', 'minutes', 'own_goals', 'bps', 'clean_sheets', 'bonus']\n",
    "    \n",
    "    # Apply the cumulative sum and subtraction\n",
    "    for col in cols_to_accumulate:\n",
    "        df[col + '_cum'] = grouped[col].cumsum() - df[col]\n",
    "    \n",
    "    # For 'total_points', just the cumulative sum is needed\n",
    "    df['total_points_cum'] = grouped['total_points'].cumsum()\n",
    "    \n",
    "    # Select the desired columns\n",
    "    df = df[['name', 'team', 'position', 'goals_scored_cum', 'assists_cum', 'ict_index_cum', 'goals_conceded_cum', 'minutes_cum', 'own_goals_cum', 'total_points_cum', 'bps_cum', 'bonus_cum', 'clean_sheets_cum', 'GW', 'kickoff_time']]\n",
    "    \n",
    "    # Filter rows where 'ict_index_cum' > 0\n",
    "    #df = df[df['ict_index_cum'] > 0]\n",
    "    \n",
    "    # Drop the temporary 'n' column\n",
    "    #df.drop(columns=['n'], inplace=True)\n",
    "    \n",
    "    # Rename the accumulated columns back to their original names for clarity\n",
    "    df.rename(columns={col + '_cum': col for col in cols_to_accumulate}, inplace=True)\n",
    "    df.rename(columns={'total_points_cum': 'total_points'}, inplace=True)\n",
    "    \n",
    "    return df"
   ]
  },
  {
   "cell_type": "code",
   "execution_count": 7,
   "id": "85e236ce",
   "metadata": {},
   "outputs": [],
   "source": [
    "df_2020_21c = accumulated(df_2020_21).reset_index(drop=True)\n",
    "df_2021_22c = accumulated(df_2021_22).reset_index(drop=True)\n",
    "df_2022_23c = accumulated(df_2022_23).reset_index(drop=True)\n",
    "df_2023_24c = accumulated(df_2023_24).reset_index(drop=True)\n",
    "df_2020_21c[\"season\"] = \"2020/21\"\n",
    "df_2021_22c[\"season\"] = \"2021/22\"\n",
    "df_2022_23c[\"season\"] = \"2022/23\"\n",
    "df_2023_24c[\"season\"] =\"2023/24\""
   ]
  },
  {
   "cell_type": "code",
   "execution_count": 8,
   "id": "f77d1e1f",
   "metadata": {},
   "outputs": [],
   "source": [
    "#cumulative_data.to_excel(\"../data/fpl_data/cumulative_df.xlsx\", index=False)"
   ]
  },
  {
   "cell_type": "code",
   "execution_count": 9,
   "id": "49a6320b",
   "metadata": {},
   "outputs": [],
   "source": [
    "df_2020_21c = accumulated(df_2020_21).reset_index(drop=True)\n",
    "#df_2020_21c"
   ]
  },
  {
   "cell_type": "code",
   "execution_count": 10,
   "id": "53dff1de",
   "metadata": {},
   "outputs": [],
   "source": [
    "#df_2020_21c[df_2020_21c[\"GW\"]==38].groupby(\"team\", as_index=False)[\"total_points\"].sum()"
   ]
  },
  {
   "cell_type": "code",
   "execution_count": 11,
   "id": "273c1aed",
   "metadata": {},
   "outputs": [],
   "source": [
    "def fpl_rankings(df):\n",
    "    dfc = accumulated(df).reset_index(drop=True)\n",
    "    dfc = dfc[dfc[\"GW\"]==38].groupby(\"team\", as_index=False)[\"total_points\"].sum().sort_values(\"total_points\", ascending=False).reset_index(drop=True)\n",
    "    return dfc"
   ]
  },
  {
   "cell_type": "code",
   "execution_count": 39,
   "id": "02a6018a",
   "metadata": {},
   "outputs": [],
   "source": [
    "fpl_rank2020_21 = fpl_rankings(df_2020_21)\n",
    "fpl_rank2020_21[\"season\"] = \"2020/21\"\n",
    "fpl_rank2020_21[\"fpl rank\"] = fpl_rank2020_21.index + 1"
   ]
  },
  {
   "cell_type": "code",
   "execution_count": 40,
   "id": "c0ba747d",
   "metadata": {},
   "outputs": [],
   "source": [
    "fpl_rank2021_22 = fpl_rankings(df_2021_22)\n",
    "fpl_rank2021_22[\"season\"] = \"2021/22\"\n",
    "fpl_rank2021_22[\"fpl rank\"] = fpl_rank2021_22.index + 1"
   ]
  },
  {
   "cell_type": "code",
   "execution_count": 41,
   "id": "635f8ed1",
   "metadata": {},
   "outputs": [],
   "source": [
    "fpl_rank2022_23 = fpl_rankings(df_2022_23)\n",
    "fpl_rank2022_23[\"season\"] = \"2022/23\"\n",
    "fpl_rank2022_23[\"fpl rank\"] = fpl_rank2022_23.index + 1"
   ]
  },
  {
   "cell_type": "code",
   "execution_count": 42,
   "id": "90c646fb",
   "metadata": {},
   "outputs": [],
   "source": [
    "fpl_ranks = pd.concat([fpl_rank2020_21, fpl_rank2021_22, fpl_rank2022_23], axis = 0).reset_index(drop=True)"
   ]
  },
  {
   "cell_type": "code",
   "execution_count": 43,
   "id": "f6c080e5",
   "metadata": {},
   "outputs": [
    {
     "data": {
      "text/plain": [
       "array(['Man City', 'Chelsea', 'Man Utd', 'Liverpool', 'Spurs',\n",
       "       'Aston Villa', 'Leeds', 'West Ham', 'Leicester', 'Arsenal',\n",
       "       'Everton', 'Brighton', 'Southampton', 'Wolves', 'Crystal Palace',\n",
       "       'Burnley', 'Newcastle', 'Fulham', 'West Brom', 'Sheffield Utd',\n",
       "       'Brentford', 'Watford', 'Norwich', \"Nott'm Forest\", 'Bournemouth'],\n",
       "      dtype=object)"
      ]
     },
     "execution_count": 43,
     "metadata": {},
     "output_type": "execute_result"
    }
   ],
   "source": [
    "fpl_ranks[\"team\"].unique()"
   ]
  },
  {
   "cell_type": "code",
   "execution_count": 44,
   "id": "66eb3632",
   "metadata": {},
   "outputs": [],
   "source": [
    "#df_2023_24[df_2023_24[\"name\"] == \"Mohamed Salah\"]"
   ]
  },
  {
   "cell_type": "code",
   "execution_count": 45,
   "id": "71dffe55",
   "metadata": {},
   "outputs": [],
   "source": [
    "table2020_21 = pd.read_excel(\"../data/premier_league_ranking/table_2020_21.xlsx\")\n",
    "table2021_22 = pd.read_excel(\"../data/premier_league_ranking/table_2021_22.xlsx\")\n",
    "table2022_23 = pd.read_excel(\"../data/premier_league_ranking/table_2022_23.xlsx\")"
   ]
  },
  {
   "cell_type": "code",
   "execution_count": 46,
   "id": "ed6c3fb3",
   "metadata": {},
   "outputs": [],
   "source": [
    "table2020_21 = table2020_21[[\"Rank\", \"Team\", \"Points\"]]\n",
    "table2020_21[\"season\"] = \"2020/21\""
   ]
  },
  {
   "cell_type": "code",
   "execution_count": 47,
   "id": "32798cff",
   "metadata": {},
   "outputs": [],
   "source": [
    "table2021_22 = table2021_22[[\"Rank\", \"Team\", \"Points\"]]\n",
    "table2021_22[\"season\"] = \"2021/22\""
   ]
  },
  {
   "cell_type": "code",
   "execution_count": 48,
   "id": "c6e5742d",
   "metadata": {},
   "outputs": [],
   "source": [
    "table2022_23 = table2022_23[[\"Rank\", \"Team\", \"Points\"]]\n",
    "table2022_23[\"season\"] = \"2022/23\""
   ]
  },
  {
   "cell_type": "code",
   "execution_count": 49,
   "id": "b7cdff85",
   "metadata": {},
   "outputs": [
    {
     "data": {
      "text/plain": [
       "array(['Man City', 'Man Utd', 'Liverpool', 'Chelsea', 'Leicester',\n",
       "       'West Ham', 'Spurs', 'Arsenal', 'Leeds Utd', 'Everton',\n",
       "       'Aston Villa', 'Newcastle', 'Wolves', 'Crystal Palace',\n",
       "       'Southampton', 'Brighton', 'Burnley', 'Fulham', 'West Brom',\n",
       "       'Sheffield Utd', 'Brentford', 'Watford', 'Norwich', 'Bournemouth',\n",
       "       'Nottingham Forest'], dtype=object)"
      ]
     },
     "execution_count": 49,
     "metadata": {},
     "output_type": "execute_result"
    }
   ],
   "source": [
    "tables = pd.concat([table2020_21, table2021_22, table2022_23], axis = 0).reset_index(drop=True)\n",
    "tables[\"Team\"].unique()"
   ]
  },
  {
   "cell_type": "code",
   "execution_count": 50,
   "id": "0f00fc26",
   "metadata": {},
   "outputs": [],
   "source": [
    "tables[\"Team\"] = tables[\"Team\"].replace([\"Leeds Utd\", \"Nottingham Forest\"], [\"Leeds\", \"Nott'm Forest\"])"
   ]
  },
  {
   "cell_type": "code",
   "execution_count": 51,
   "id": "2a4d89c3",
   "metadata": {},
   "outputs": [],
   "source": [
    "tables = tables.rename(columns={\"Team\":\"team\"})\n",
    "fpl_points_w_tables = tables.merge(fpl_ranks, how = \"inner\", on = [\"team\", \"season\"])"
   ]
  },
  {
   "cell_type": "code",
   "execution_count": 61,
   "id": "c6dba041",
   "metadata": {},
   "outputs": [],
   "source": [
    "fpl_points_w_tables.to_excel(\"../data/fpl_data/fpl_points_use.xlsx\", index=False)"
   ]
  },
  {
   "cell_type": "code",
   "execution_count": 56,
   "id": "9e448e3c",
   "metadata": {},
   "outputs": [],
   "source": [
    "def fpl_vs_points(year):\n",
    "    data = fpl_points_w_tables[fpl_points_w_tables[\"season\"] == year]\n",
    "    plt.figure(figsize=(15,8))\n",
    "    sns.scatterplot(x = \"total_points\", y = \"Points\", data = data)\n",
    "    plt.xlabel(\"FPL points\")\n",
    "    plt.ylabel(\"Points\")\n",
    "    plt.title(\"Premier League Points vs Actual Points for %s\"%year)\n",
    "    plt.show()"
   ]
  },
  {
   "cell_type": "code",
   "execution_count": 57,
   "id": "69838c90",
   "metadata": {},
   "outputs": [
    {
     "data": {
      "image/png": "[encoded data removed]",
      "text/plain": [
       "<Figure size 1500x800 with 1 Axes>"
      ]
     },
     "metadata": {},
     "output_type": "display_data"
    }
   ],
   "source": [
    "fpl_vs_points(\"2020/21\")"
   ]
  },
  {
   "cell_type": "code",
   "execution_count": 58,
   "id": "8fcd070e",
   "metadata": {},
   "outputs": [
    {
     "data": {
      "image/png": "[encoded data removed]",
      "text/plain": [
       "<Figure size 1500x800 with 1 Axes>"
      ]
     },
     "metadata": {},
     "output_type": "display_data"
    }
   ],
   "source": [
    "fpl_vs_points(\"2021/22\")"
   ]
  },
  {
   "cell_type": "code",
   "execution_count": 59,
   "id": "4cdceed6",
   "metadata": {},
   "outputs": [
    {
     "data": {
      "image/png": "[encoded data removed]",
      "text/plain": [
       "<Figure size 1500x800 with 1 Axes>"
      ]
     },
     "metadata": {},
     "output_type": "display_data"
    }
   ],
   "source": [
    "fpl_vs_points(\"2022/23\")"
   ]
  },
  {
   "cell_type": "markdown",
   "id": "ebcf18bd",
   "metadata": {},
   "source": [
    "### General EDA"
   ]
  },
  {
   "cell_type": "code",
   "execution_count": 25,
   "id": "571b9f3e",
   "metadata": {},
   "outputs": [
    {
     "name": "stdout",
     "output_type": "stream",
     "text": [
      "<class 'pandas.core.frame.DataFrame'>\n",
      "RangeIndex: 93199 entries, 0 to 93198\n",
      "Data columns (total 42 columns):\n",
      " #   Column                      Non-Null Count  Dtype  \n",
      "---  ------                      --------------  -----  \n",
      " 0   name                        93199 non-null  object \n",
      " 1   position                    93199 non-null  object \n",
      " 2   team                        93199 non-null  object \n",
      " 3   xP                          93199 non-null  float64\n",
      " 4   assists                     93199 non-null  int64  \n",
      " 5   bonus                       93199 non-null  int64  \n",
      " 6   bps                         93199 non-null  int64  \n",
      " 7   clean_sheets                93199 non-null  int64  \n",
      " 8   creativity                  93199 non-null  float64\n",
      " 9   element                     93199 non-null  int64  \n",
      " 10  fixture                     93199 non-null  int64  \n",
      " 11  goals_conceded              93199 non-null  int64  \n",
      " 12  goals_scored                93199 non-null  int64  \n",
      " 13  ict_index                   93199 non-null  float64\n",
      " 14  influence                   93199 non-null  float64\n",
      " 15  kickoff_time                93199 non-null  object \n",
      " 16  minutes                     93199 non-null  int64  \n",
      " 17  opponent_team               93199 non-null  int64  \n",
      " 18  own_goals                   93199 non-null  int64  \n",
      " 19  penalties_missed            93199 non-null  int64  \n",
      " 20  penalties_saved             93199 non-null  int64  \n",
      " 21  red_cards                   93199 non-null  int64  \n",
      " 22  round                       93199 non-null  int64  \n",
      " 23  saves                       93199 non-null  int64  \n",
      " 24  selected                    93199 non-null  int64  \n",
      " 25  team_a_score                93199 non-null  int64  \n",
      " 26  team_h_score                93199 non-null  int64  \n",
      " 27  threat                      93199 non-null  int64  \n",
      " 28  total_points                93199 non-null  int64  \n",
      " 29  transfers_balance           93199 non-null  int64  \n",
      " 30  transfers_in                93199 non-null  int64  \n",
      " 31  transfers_out               93199 non-null  int64  \n",
      " 32  value                       93199 non-null  int64  \n",
      " 33  was_home                    93199 non-null  bool   \n",
      " 34  yellow_cards                93199 non-null  int64  \n",
      " 35  GW                          93199 non-null  int64  \n",
      " 36  expected_assists            93199 non-null  float64\n",
      " 37  expected_goal_involvements  93199 non-null  float64\n",
      " 38  expected_goals              93199 non-null  float64\n",
      " 39  expected_goals_conceded     93199 non-null  float64\n",
      " 40  starts                      93199 non-null  int64  \n",
      " 41  season                      93199 non-null  object \n",
      "dtypes: bool(1), float64(8), int64(28), object(5)\n",
      "memory usage: 29.2+ MB\n"
     ]
    }
   ],
   "source": [
    "new_df.info()"
   ]
  },
  {
   "cell_type": "code",
   "execution_count": 62,
   "id": "ffc649b8",
   "metadata": {},
   "outputs": [],
   "source": [
    "new_df_use = new_df[[\"goals_scored\", \"goals_conceded\", \"total_points\", \"assists\", \"clean_sheets\", \"minutes\"]]"
   ]
  },
  {
   "cell_type": "code",
   "execution_count": 67,
   "id": "0e598756",
   "metadata": {},
   "outputs": [],
   "source": [
    "def hist(year, var):\n",
    "    new_data = new_df[new_df[\"season\"] == year]\n",
    "    plt.figure(figsize=(16,8))\n",
    "    sns.histplot(x = var, data = new_data)\n",
    "    plt.xlabel(var)\n",
    "    plt.title(\"A distribution of %s during the season of %s\"%(var, year))\n",
    "    plt.show()"
   ]
  },
  {
   "cell_type": "code",
   "execution_count": null,
   "id": "7d034b44",
   "metadata": {},
   "outputs": [],
   "source": []
  },
  {
   "cell_type": "code",
   "execution_count": null,
   "id": "5053fee8",
   "metadata": {},
   "outputs": [],
   "source": []
  }
 ],
 "metadata": {
  "kernelspec": {
   "display_name": "Python 3 (ipykernel)",
   "language": "python",
   "name": "python3"
  },
  "language_info": {
   "codemirror_mode": {
    "name": "ipython",
    "version": 3
   },
   "file_extension": ".py",
   "mimetype": "text/x-python",
   "name": "python",
   "nbconvert_exporter": "python",
   "pygments_lexer": "ipython3",
   "version": "3.9.12"
  }
 },
 "nbformat": 4,
 "nbformat_minor": 5
}
